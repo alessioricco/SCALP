{
 "cells": [
  {
   "cell_type": "code",
   "execution_count": 7,
   "metadata": {},
   "outputs": [],
   "source": [
    "import pandas as pd\n",
    "\n",
    "files = [f\"./Data/gemini/Gemini_BTCUSD_{x}_minute.csv\" for x in range(2017, 2025)]\n",
    "\n",
    "dfs = []\n",
    "for file_path in files:\n",
    "    df = pd.read_csv(file_path)\n",
    "    dfs.append(df)\n",
    "\n",
    "combined_df = pd.concat(dfs)\n",
    "\n",
    "\n"
   ]
  },
  {
   "cell_type": "code",
   "execution_count": 8,
   "metadata": {},
   "outputs": [],
   "source": [
    "# fix the columns\n",
    "# unix,date,symbol,open,high,low,close,Volume BTC,Volume USD\n",
    "# ,timestamp,open,high,low,close,volume\n",
    "\n",
    "combined_df = combined_df.drop('unix', axis=1)\n",
    "combined_df = combined_df.drop('Volume USD', axis=1)\n",
    "combined_df = combined_df.rename(columns={'date': 'timestamp', 'Volume BTC': 'volume'})\n"
   ]
  },
  {
   "cell_type": "code",
   "execution_count": null,
   "metadata": {},
   "outputs": [],
   "source": []
  },
  {
   "cell_type": "code",
   "execution_count": 9,
   "metadata": {},
   "outputs": [],
   "source": [
    "# Save the combined dataframe as \".\\gemini_1m.csv\"\n",
    "combined_df.to_csv(\"./Data/gemini/gemini_1m.csv\", index=False)"
   ]
  }
 ],
 "metadata": {
  "kernelspec": {
   "display_name": "Python 3",
   "language": "python",
   "name": "python3"
  },
  "language_info": {
   "codemirror_mode": {
    "name": "ipython",
    "version": 3
   },
   "file_extension": ".py",
   "mimetype": "text/x-python",
   "name": "python",
   "nbconvert_exporter": "python",
   "pygments_lexer": "ipython3",
   "version": "3.11.9"
  }
 },
 "nbformat": 4,
 "nbformat_minor": 2
}
