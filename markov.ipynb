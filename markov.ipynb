{
 "cells": [
  {
   "cell_type": "code",
   "execution_count": 1,
   "metadata": {},
   "outputs": [],
   "source": [
    "import pandas as pd\n",
    "# Cell 1: Import necessary libraries\n",
    "import pandas as pd\n",
    "import numpy as np\n",
    "\n",
    "from StateMachines.TradingStateMachine import TradingStateMachine\n",
    "from StrategyBuilders import getStrategyBuilder\n",
    "from Strategies.AbstractTradingStrategy import AbstractTradingStrategy"
   ]
  },
  {
   "cell_type": "code",
   "execution_count": 2,
   "metadata": {},
   "outputs": [
    {
     "name": "stdout",
     "output_type": "stream",
     "text": [
      "            timestamp   symbol    open    high     low   close    volume  \\\n",
      "0 2017-01-01 00:00:00  BTC/USD  974.55  974.55  974.55  974.55  0.000000   \n",
      "1 2017-01-01 00:01:00  BTC/USD  974.55  974.55  974.55  974.55  0.000000   \n",
      "2 2017-01-01 00:02:00  BTC/USD  974.55  974.55  970.00  970.00  0.417679   \n",
      "3 2017-01-01 00:03:00  BTC/USD  970.00  970.00  970.00  970.00  0.000514   \n",
      "4 2017-01-01 00:04:00  BTC/USD  970.00  970.00  970.00  970.00  0.000000   \n",
      "\n",
      "   year_  \n",
      "0   2017  \n",
      "1   2017  \n",
      "2   2017  \n",
      "3   2017  \n",
      "4   2017  \n"
     ]
    }
   ],
   "source": [
    "folder = \"./Data/gemini\"\n",
    "folder_lab1 = \"./Data/lab1\"\n",
    "file = \"gemini_1m.csv\"\n",
    "# strategy_builder = getStrategyBuilder('MODEL')\n",
    "# trader: TradingStateMachine = TradingStateMachine(strategy_builder(\"gemini_btcusd_1m\"))\n",
    "\n",
    "df = pd.read_csv(f\"{folder}/{file}\")\n",
    "\n",
    "df['timestamp'] = pd.to_datetime(df['timestamp'])\n",
    "df['year_'] = df['timestamp'].dt.year\n",
    "df = df.sort_values('timestamp',ascending=True)\n",
    "print(df.head())  # Show the first few rows to verify data\n"
   ]
  },
  {
   "cell_type": "code",
   "execution_count": 8,
   "metadata": {},
   "outputs": [
    {
     "name": "stdout",
     "output_type": "stream",
     "text": [
      "          RRRRR     RRRRG     RRRGR     RRGRR     RGRRR     GRRRR     RRRGG  \\\n",
      "RRRRR  0.757738  0.242262  0.000000  0.000000  0.000000  0.000000  0.000000   \n",
      "RRRRG  0.000000  0.000000  0.651082  0.000000  0.000000  0.000000  0.348918   \n",
      "RRRGR  0.000000  0.000000  0.000000  0.651661  0.000000  0.000000  0.000000   \n",
      "RRGRR  0.000000  0.000000  0.000000  0.000000  0.645628  0.000000  0.000000   \n",
      "RGRRR  0.000000  0.000000  0.000000  0.000000  0.000000  0.644617  0.000000   \n",
      "\n",
      "       RRGGR  RGGRR  GGRRR  ...  GGGRG  GGRGR  RGGGR  GGRRG  GRGRG  RGRGG  \\\n",
      "RRRRR    0.0    0.0    0.0  ...    0.0    0.0    0.0    0.0    0.0    0.0   \n",
      "RRRRG    0.0    0.0    0.0  ...    0.0    0.0    0.0    0.0    0.0    0.0   \n",
      "RRRGR    0.0    0.0    0.0  ...    0.0    0.0    0.0    0.0    0.0    0.0   \n",
      "RRGRR    0.0    0.0    0.0  ...    0.0    0.0    0.0    0.0    0.0    0.0   \n",
      "RGRRR    0.0    0.0    0.0  ...    0.0    0.0    0.0    0.0    0.0    0.0   \n",
      "\n",
      "       GRGGR  GGRGG  RGGRG  GRGGG  \n",
      "RRRRR    0.0    0.0    0.0    0.0  \n",
      "RRRRG    0.0    0.0    0.0    0.0  \n",
      "RRRGR    0.0    0.0    0.0    0.0  \n",
      "RRGRR    0.0    0.0    0.0    0.0  \n",
      "RGRRR    0.0    0.0    0.0    0.0  \n",
      "\n",
      "[5 rows x 32 columns]\n",
      "Probability of transitioning from RGRGG to GGGRR: 0.0\n"
     ]
    }
   ],
   "source": [
    "\n",
    "\n",
    "# Cell 3: Define candle colors using single letters\n",
    "def define_candle_color(row):\n",
    "    if row['close'] > row['open']:\n",
    "        return 'G'  # Green\n",
    "    else:\n",
    "        return 'R'  # Red\n",
    "\n",
    "df['state'] = df.apply(define_candle_color, axis=1)\n",
    "\n",
    "# # Cell 4: Convert state to string if not already and create combined states for the last 5 candles\n",
    "# df['state'] = df['state'].astype(str)\n",
    "# df['combined_state'] = df['state'].rolling(window=5).apply(lambda x: ''.join(x), raw=False)\n",
    "# import pandas as pd\n",
    "\n",
    "# Assuming data loading and preliminary processing (defining 'state' from 'open' and 'close') are done\n",
    "# Load data\n",
    "# df = pd.read_csv('path_to_your_candle_data.csv')\n",
    "\n",
    "# Define candle colors using single letters\n",
    "df['state'] = df.apply(lambda row: 'G' if row['close'] > row['open'] else 'R', axis=1)\n",
    "\n",
    "# Manually create combined states for the last 5 candles\n",
    "def create_combined_states(states, window_size=5):\n",
    "    combined_states = []\n",
    "    states = states.fillna('').astype(str)\n",
    "    for i in range(len(states) - window_size + 1):\n",
    "        combined_state = ''.join(states[i:i+window_size])\n",
    "        combined_states.append(combined_state)\n",
    "    return pd.Series(combined_states, index=states.index[window_size-1:])\n",
    "\n",
    "df['combined_state'] = create_combined_states(df['state'])\n",
    "\n",
    "# Continue with your transition matrix calculation and other analysis as before\n",
    "\n",
    "# Cell 5: Calculate the transition matrix\n",
    "def calculate_efficient_transition_matrix(df):\n",
    "    df = df.dropna(subset=['combined_state'])\n",
    "    unique_states = df['combined_state'].unique()\n",
    "    matrix = pd.DataFrame(0, index=unique_states, columns=unique_states)\n",
    "\n",
    "    previous_state = df['combined_state'].shift(1)\n",
    "    transitions = pd.DataFrame({'prev': previous_state, 'curr': df['combined_state']}).dropna()\n",
    "\n",
    "    # Aggregate counts using groupby, which is more efficient on large datasets\n",
    "    counts = transitions.groupby(['prev', 'curr']).size().unstack(fill_value=0)\n",
    "\n",
    "    # Adding missing states to the matrix\n",
    "    counts = counts.reindex(index=matrix.index, columns=matrix.index, fill_value=0)\n",
    "\n",
    "    # Normalize the counts to probabilities\n",
    "    matrix = counts.div(counts.sum(axis=1), axis=0)\n",
    "    return matrix\n",
    "\n",
    "transition_matrix = calculate_efficient_transition_matrix(df)\n",
    "print(transition_matrix.head())  # Print the top of the matrix to inspect it\n",
    "\n",
    "# Cell 6: Function to get transition probabilities\n",
    "def get_transition_probability(current_pattern, next_pattern, matrix):\n",
    "    if current_pattern in matrix.index and next_pattern in matrix.columns:\n",
    "        return matrix.at[current_pattern, next_pattern]\n",
    "    else:\n",
    "        return 0  # Return 0 probability if the pattern hasn't been observed\n",
    "\n",
    "# Cell 7: Test the model with an example\n",
    "current_pattern = 'RGRGG'  # Last 5 observed patterns\n",
    "next_pattern = 'GRGGR'    # Hypothetical next pattern\n",
    "probability = get_transition_probability(current_pattern, next_pattern, transition_matrix)\n",
    "print(f\"Probability of transitioning from {current_pattern} to {next_pattern}: {probability}\")\n"
   ]
  },
  {
   "cell_type": "code",
   "execution_count": 12,
   "metadata": {},
   "outputs": [
    {
     "name": "stdout",
     "output_type": "stream",
     "text": [
      "Probability of transitioning from RGRGG to GRGGG: 0.4426594540193735\n",
      "GGGGR\n"
     ]
    }
   ],
   "source": [
    "current_pattern = 'RGRGG'  # Last 5 observed patterns\n",
    "next_pattern = 'GRGGG'    # Hypothetical next pattern\n",
    "probability = get_transition_probability(current_pattern, next_pattern, transition_matrix)\n",
    "print(f\"Probability of transitioning from {current_pattern} to {next_pattern}: {probability}\")\n",
    "\n",
    "def bet(current_pattern, transition_matrix):\n",
    "    # Calculate the probability of transitioning to each possible state\n",
    "    probabilities = transition_matrix.loc[current_pattern]\n",
    "    # Bet on the state with the highest probability\n",
    "    return probabilities.idxmax()\n",
    "\n",
    "print(bet('RGGGG', transition_matrix))\n"
   ]
  },
  {
   "cell_type": "code",
   "execution_count": 13,
   "metadata": {},
   "outputs": [],
   "source": [
    "transition_matrix.to_csv(f\"{folder_lab1}/transition_matrix.csv\")"
   ]
  },
  {
   "cell_type": "code",
   "execution_count": 14,
   "metadata": {},
   "outputs": [
    {
     "name": "stdout",
     "output_type": "stream",
     "text": [
      "The most probable pattern two candles after 'RRRGG' is 'RGGRR'.\n"
     ]
    }
   ],
   "source": [
    "def predict_two_steps_ahead(current_pattern, transition_matrix, steps=2):\n",
    "    # Check if the current pattern exists in the transition matrix\n",
    "    if current_pattern not in transition_matrix.index:\n",
    "        return \"Current pattern not found in the matrix\"\n",
    "\n",
    "    # Step through the matrix to find the most probable states over the specified number of steps\n",
    "    next_pattern = current_pattern\n",
    "    for _ in range(steps):\n",
    "        next_pattern = transition_matrix.loc[next_pattern].idxmax()  # Get the next pattern with the highest probability\n",
    "\n",
    "        # Ensure the next pattern is a valid entry in the matrix for subsequent steps\n",
    "        if pd.isna(next_pattern) or next_pattern not in transition_matrix.index:\n",
    "            return \"Transition leads to an unknown pattern\"\n",
    "    \n",
    "    return next_pattern\n",
    "\n",
    "# Example use of the function\n",
    "transition_matrix = calculate_efficient_transition_matrix(df)  # Assuming you have this matrix already calculated\n",
    "current_pattern = 'RRRGG'\n",
    "resulting_pattern = predict_two_steps_ahead(current_pattern, transition_matrix)\n",
    "print(f\"The most probable pattern two candles after '{current_pattern}' is '{resulting_pattern}'.\")\n"
   ]
  },
  {
   "cell_type": "code",
   "execution_count": 16,
   "metadata": {},
   "outputs": [
    {
     "name": "stdout",
     "output_type": "stream",
     "text": [
      "The most probable pattern two candles after 'RRRGG' is 'RGGRR'.\n"
     ]
    }
   ],
   "source": [
    "transition_matrix = calculate_efficient_transition_matrix(df)  # Assuming you have this matrix already calculated\n",
    "current_pattern = 'RRRGG'\n",
    "resulting_pattern = predict_two_steps_ahead(current_pattern, transition_matrix, steps=2)\n",
    "print(f\"The most probable pattern two candles after '{current_pattern}' is '{resulting_pattern}'.\")"
   ]
  }
 ],
 "metadata": {
  "kernelspec": {
   "display_name": "Python 3",
   "language": "python",
   "name": "python3"
  },
  "language_info": {
   "codemirror_mode": {
    "name": "ipython",
    "version": 3
   },
   "file_extension": ".py",
   "mimetype": "text/x-python",
   "name": "python",
   "nbconvert_exporter": "python",
   "pygments_lexer": "ipython3",
   "version": "3.11.9"
  }
 },
 "nbformat": 4,
 "nbformat_minor": 2
}
