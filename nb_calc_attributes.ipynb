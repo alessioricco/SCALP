{
 "cells": [
  {
   "cell_type": "markdown",
   "metadata": {},
   "source": [
    "This will take a files like Gemini_1m and it will add all the labeled features"
   ]
  },
  {
   "cell_type": "code",
   "execution_count": 1,
   "metadata": {},
   "outputs": [],
   "source": [
    "import pandas as pd\n",
    "\n",
    "from StateMachines.TradingStateMachine import TradingStateMachine\n",
    "from StrategyBuilders import getStrategyBuilder"
   ]
  },
  {
   "cell_type": "code",
   "execution_count": 2,
   "metadata": {},
   "outputs": [
    {
     "data": {
      "text/plain": [
       "3680586"
      ]
     },
     "execution_count": 2,
     "metadata": {},
     "output_type": "execute_result"
    }
   ],
   "source": [
    "\n",
    "strategy_builder = getStrategyBuilder('SIMPLE')\n",
    "trader: TradingStateMachine = TradingStateMachine(strategy_builder(\"gemini_btcusd_1m\"))\n",
    "\n",
    "df = pd.read_csv(\"./Data/gemini/gemini_1m.csv\")\n",
    "\n",
    "len(df)"
   ]
  },
  {
   "cell_type": "code",
   "execution_count": 3,
   "metadata": {},
   "outputs": [
    {
     "name": "stdout",
     "output_type": "stream",
     "text": [
      "There are gaps in the dataset.\n",
      "                  timestamp   symbol      open      high       low     close  \\\n",
      "862679  2018-08-25 16:44:00  BTC/USD   6709.99   6710.00   6709.99   6709.99   \n",
      "864517  2018-08-27 00:27:00  BTC/USD   6693.51   6698.59   6693.51   6694.28   \n",
      "980988  2018-12-07 21:21:00  BTC/USD   3345.67   3345.67   3334.74   3334.74   \n",
      "1062689 2019-02-03 00:01:00  BTC/USD   3469.06   3469.85   3469.06   3469.85   \n",
      "1075649 2019-02-12 00:02:00  BTC/USD   3588.58   3590.91   3588.58   3590.91   \n",
      "...                     ...      ...       ...       ...       ...       ...   \n",
      "3669067 2024-03-30 00:23:00  BTC/USD  69831.31  69831.31  69785.54  69785.54   \n",
      "3671947 2024-04-01 00:24:00  BTC/USD  71195.04  71204.36  71172.92  71200.28   \n",
      "3673387 2024-04-02 00:27:00  BTC/USD  69433.34  69436.39  69409.49  69423.07   \n",
      "3677706 2024-04-05 00:27:00  BTC/USD  68327.55  68327.55  68302.61  68315.09   \n",
      "3679146 2024-04-06 00:29:00  BTC/USD  67895.28  67895.28  67889.24  67893.11   \n",
      "\n",
      "           volume  \n",
      "862679   0.046878  \n",
      "864517   0.156745  \n",
      "980988   2.081900  \n",
      "1062689  0.012964  \n",
      "1075649  0.835443  \n",
      "...           ...  \n",
      "3669067  0.065031  \n",
      "3671947  0.073983  \n",
      "3673387  0.199047  \n",
      "3677706  0.222219  \n",
      "3679146  0.191510  \n",
      "\n",
      "[318 rows x 7 columns]\n"
     ]
    }
   ],
   "source": [
    "import pandas as pd\n",
    "\n",
    "# Assuming 'fd' is the dataframe with the 'timeframe' column\n",
    "# Convert the 'timeframe' column to datetime\n",
    "df['timestamp'] = pd.to_datetime(df['timestamp'])\n",
    "\n",
    "# Sort the dataframe by the 'timeframe' column\n",
    "fd = df.sort_values('timestamp')\n",
    "\n",
    "# Calculate the time difference between consecutive rows\n",
    "time_diff = fd['timestamp'].diff()\n",
    "\n",
    "# Check if there are any gaps greater than 1 minute\n",
    "has_gaps = any(time_diff > pd.Timedelta(minutes=1))\n",
    "\n",
    "if has_gaps:\n",
    "    gaps = fd[time_diff > pd.Timedelta(minutes=1)]\n",
    "    print(\"There are gaps in the dataset.\")\n",
    "    print(gaps)\n",
    "else:\n",
    "    print(\"There are no gaps in the dataset.\")\n"
   ]
  },
  {
   "cell_type": "code",
   "execution_count": 4,
   "metadata": {},
   "outputs": [],
   "source": [
    "\n",
    "df = df.sort_values('timestamp')\n",
    "trader.strategy.enrich_dataset(df)\n",
    "df.to_csv(f\"./Data/gemini/gemini_1m_features.csv\")"
   ]
  }
 ],
 "metadata": {
  "kernelspec": {
   "display_name": "Python 3",
   "language": "python",
   "name": "python3"
  },
  "language_info": {
   "codemirror_mode": {
    "name": "ipython",
    "version": 3
   },
   "file_extension": ".py",
   "mimetype": "text/x-python",
   "name": "python",
   "nbconvert_exporter": "python",
   "pygments_lexer": "ipython3",
   "version": "3.11.3"
  }
 },
 "nbformat": 4,
 "nbformat_minor": 2
}
