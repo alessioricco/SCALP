{
 "cells": [
  {
   "cell_type": "markdown",
   "metadata": {},
   "source": [
    "This will take a files like Gemini_1m and it will add all the labeled features"
   ]
  },
  {
   "cell_type": "code",
   "execution_count": null,
   "metadata": {},
   "outputs": [],
   "source": [
    "import pandas as pd\n",
    "\n",
    "from StateMachines.TradingStateMachine import TradingStateMachine\n",
    "from StrategyBuilders import getStrategyBuilder"
   ]
  },
  {
   "cell_type": "code",
   "execution_count": 2,
   "metadata": {},
   "outputs": [
    {
     "data": {
      "text/plain": [
       "3680586"
      ]
     },
     "execution_count": 2,
     "metadata": {},
     "output_type": "execute_result"
    }
   ],
   "source": [
    "\n",
    "strategy_builder = getStrategyBuilder('MODEL')\n",
    "trader: TradingStateMachine = TradingStateMachine(strategy_builder(\"gemini_btcusd_1m\"))\n",
    "\n",
    "df = pd.read_csv(\"./Data/gemini/gemini_1m.csv\")\n",
    "len(df)"
   ]
  },
  {
   "cell_type": "code",
   "execution_count": 3,
   "metadata": {},
   "outputs": [
    {
     "name": "stdout",
     "output_type": "stream",
     "text": [
      "There are gaps in the dataset.\n",
      "                  timestamp   symbol      open      high       low     close  \\\n",
      "862679  2018-08-25 16:44:00  BTC/USD   6709.99   6710.00   6709.99   6709.99   \n",
      "864517  2018-08-27 00:27:00  BTC/USD   6693.51   6698.59   6693.51   6694.28   \n",
      "980988  2018-12-07 21:21:00  BTC/USD   3345.67   3345.67   3334.74   3334.74   \n",
      "1062689 2019-02-03 00:01:00  BTC/USD   3469.06   3469.85   3469.06   3469.85   \n",
      "1075649 2019-02-12 00:02:00  BTC/USD   3588.58   3590.91   3588.58   3590.91   \n",
      "...                     ...      ...       ...       ...       ...       ...   \n",
      "3669067 2024-03-30 00:23:00  BTC/USD  69831.31  69831.31  69785.54  69785.54   \n",
      "3671947 2024-04-01 00:24:00  BTC/USD  71195.04  71204.36  71172.92  71200.28   \n",
      "3673387 2024-04-02 00:27:00  BTC/USD  69433.34  69436.39  69409.49  69423.07   \n",
      "3677706 2024-04-05 00:27:00  BTC/USD  68327.55  68327.55  68302.61  68315.09   \n",
      "3679146 2024-04-06 00:29:00  BTC/USD  67895.28  67895.28  67889.24  67893.11   \n",
      "\n",
      "           volume  \n",
      "862679   0.046878  \n",
      "864517   0.156745  \n",
      "980988   2.081900  \n",
      "1062689  0.012964  \n",
      "1075649  0.835443  \n",
      "...           ...  \n",
      "3669067  0.065031  \n",
      "3671947  0.073983  \n",
      "3673387  0.199047  \n",
      "3677706  0.222219  \n",
      "3679146  0.191510  \n",
      "\n",
      "[318 rows x 7 columns]\n"
     ]
    }
   ],
   "source": [
    "import pandas as pd\n",
    "\n",
    "# Assuming 'fd' is the dataframe with the 'timeframe' column\n",
    "# Convert the 'timeframe' column to datetime\n",
    "df['timestamp'] = pd.to_datetime(df['timestamp'])\n",
    "\n",
    "# Sort the dataframe by the 'timeframe' column\n",
    "fd = df.sort_values('timestamp')\n",
    "\n",
    "# Calculate the time difference between consecutive rows\n",
    "time_diff = fd['timestamp'].diff()\n",
    "\n",
    "# Check if there are any gaps greater than 1 minute\n",
    "has_gaps = any(time_diff > pd.Timedelta(minutes=1))\n",
    "\n",
    "if has_gaps:\n",
    "    gaps = fd[time_diff > pd.Timedelta(minutes=1)]\n",
    "    print(\"There are gaps in the dataset.\")\n",
    "    print(gaps)\n",
    "else:\n",
    "    print(\"There are no gaps in the dataset.\")\n"
   ]
  },
  {
   "cell_type": "code",
   "execution_count": 4,
   "metadata": {},
   "outputs": [
    {
     "name": "stdout",
     "output_type": "stream",
     "text": [
      "required columns:  ['close', 'period', 'stoch_rsi', 'stoch_rsi_k', 'stoch_rsi_d', 'macd', 'macd_signal', 'macd_diff', 'hma200', 'stoch_rsi_slope', 'stoch_rsi_k_slope', 'stoch_rsi_overbought_', 'stoch_rsi_oversold_', 'stoch_rsi_bullish_crossover_', 'stoch_rsi_bearish_crossover_', 'stoch_rsi_d_slope', 'macd_slope', 'macd_signal_slope', 'prev_macd_diff', 'macd_positive_', 'hma200_slope', 'hma200_above_price_', 'stoch_rsi_trend_', 'macd_trend_', 'macd_bullish_crossover_', 'macd_bearish_crossover_', 'hma200_trend_', 'stoch_rsi_change_of_trend_', 'macd_change_of_trend_', 'hma200_change_of_trend_']\n",
      "columns do generate:  28\n",
      "generating feature:  stoch_rsi\n",
      "generating feature:  stoch_rsi_k\n",
      "generating feature:  stoch_rsi_d\n",
      "generating feature:  stoch_rsi_overbought_\n",
      "generating feature:  stoch_rsi_oversold_\n",
      "generating feature:  stoch_rsi_bullish_crossover_\n",
      "generating feature:  stoch_rsi_bearish_crossover_\n",
      "generating feature:  stoch_rsi_slope\n",
      "generating feature:  stoch_rsi_k_slope\n",
      "generating feature:  stoch_rsi_d_slope\n",
      "generating feature:  stoch_rsi_trend_\n",
      "generating feature:  stoch_rsi_change_of_trend_\n",
      "generating feature:  hma200\n",
      "generating feature:  hma200_slope\n",
      "generating feature:  hma200_trend_\n",
      "generating feature:  hma200_change_of_trend_\n",
      "generating feature:  hma200_above_price_\n",
      "generating feature:  macd\n",
      "generating feature:  macd_signal\n",
      "generating feature:  macd_diff\n",
      "generating feature:  prev_macd_diff\n",
      "generating feature:  macd_bullish_crossover_\n",
      "generating feature:  macd_bearish_crossover_\n",
      "generating feature:  macd_positive_\n",
      "generating feature:  macd_slope\n",
      "generating feature:  macd_signal_slope\n",
      "generating feature:  macd_trend_\n",
      "generating feature:  macd_change_of_trend_\n",
      "['timestamp', 'symbol', 'open', 'high', 'low', 'close', 'volume', 'stoch_rsi', 'stoch_rsi_k', 'stoch_rsi_d', 'stoch_rsi_overbought_', 'stoch_rsi_oversold_', 'stoch_rsi_bullish_crossover_', 'stoch_rsi_bearish_crossover_', 'stoch_rsi_slope', 'stoch_rsi_k_slope', 'stoch_rsi_d_slope', 'stoch_rsi_trend_', 'stoch_rsi_change_of_trend_', 'hma200', 'hma200_slope', 'hma200_trend_', 'hma200_change_of_trend_', 'hma200_above_price_', 'macd', 'macd_signal', 'macd_diff', 'prev_macd_diff', 'macd_bullish_crossover_', 'macd_bearish_crossover_', 'macd_positive_', 'macd_slope', 'macd_signal_slope', 'macd_trend_', 'macd_change_of_trend_']\n",
      "['timestamp', 'symbol', 'open', 'high', 'low', 'close', 'volume', 'stoch_rsi', 'stoch_rsi_k', 'stoch_rsi_d', 'stoch_rsi_overbought_', 'stoch_rsi_oversold_', 'stoch_rsi_bullish_crossover_', 'stoch_rsi_bearish_crossover_', 'stoch_rsi_slope', 'stoch_rsi_k_slope', 'stoch_rsi_d_slope', 'stoch_rsi_trend_', 'stoch_rsi_change_of_trend_', 'hma200', 'hma200_slope', 'hma200_trend_', 'hma200_change_of_trend_', 'hma200_above_price_', 'macd', 'macd_signal', 'macd_diff', 'prev_macd_diff', 'macd_bullish_crossover_', 'macd_bearish_crossover_', 'macd_positive_', 'macd_slope', 'macd_signal_slope', 'macd_trend_', 'macd_change_of_trend_']\n",
      "done\n"
     ]
    }
   ],
   "source": [
    "\n",
    "df = df.sort_values('timestamp')\n",
    "# this must be changed because i need to calculate all the features and in the correct order\n",
    "trader.enrich_dataset(df)\n",
    "# ['Unnamed: 0', 'timestamp', 'symbol', 'open', 'high', 'low', 'close', 'volume', 'stoch_rsi', 'stoch_rsi_k', 'stoch_rsi_d', 'stoch_rsi_overbought_', 'stoch_rsi_oversold_', 'stoch_rsi_bullish_crossover_', 'stoch_rsi_bearish_crossover_', 'stoch_rsi_slope', 'stoch_rsi_k_slope', 'stoch_rsi_d_slope', 'stoch_rsi_trend_', 'stoch_rsi_change_of_trend_', 'hma200', 'hma200_slope', 'hma200_trend_', 'hma200_change_of_trend_', 'hma200_above_price_', 'macd', 'macd_signal', 'macd_diff', 'prev_macd_diff', 'macd_bullish_crossover_', 'macd_bearish_crossover_', 'macd_positive_', 'macd_slope', 'macd_signal_slope', 'macd_trend_', 'macd_change_of_trend_']\n",
    "print(list(df.columns))\n",
    "df.to_csv(f\"./Data/gemini/gemini_1m_features.csv\")\n",
    "print(\"done\")"
   ]
  }
 ],
 "metadata": {
  "kernelspec": {
   "display_name": "Python 3",
   "language": "python",
   "name": "python3"
  },
  "language_info": {
   "codemirror_mode": {
    "name": "ipython",
    "version": 3
   },
   "file_extension": ".py",
   "mimetype": "text/x-python",
   "name": "python",
   "nbconvert_exporter": "python",
   "pygments_lexer": "ipython3",
   "version": "3.11.9"
  }
 },
 "nbformat": 4,
 "nbformat_minor": 2
}
